{
 "cells": [
  {
   "cell_type": "code",
   "execution_count": 1,
   "metadata": {},
   "outputs": [],
   "source": [
    "import pandas as pd \n",
    "from dataset.MovieLens.dataset import MovieLensDatasetLOO\n",
    "from configs.config import FedConfig\n",
    "from model.mf_recommender import MFRecommender\n",
    "from model.configs.mf_recommender_config import MFRecommenderConfig\n",
    "\n",
    "from utils.metrics import ScoreMeterRec"
   ]
  },
  {
   "cell_type": "code",
   "execution_count": 2,
   "metadata": {},
   "outputs": [],
   "source": [
    "from ldp.laplace import LaplaceLDP\n",
    "from ldp.harmony import HarmonyLDP"
   ]
  },
  {
   "cell_type": "code",
   "execution_count": 3,
   "metadata": {},
   "outputs": [],
   "source": [
    "from federation.federation import Federation"
   ]
  },
  {
   "cell_type": "code",
   "execution_count": 25,
   "metadata": {},
   "outputs": [],
   "source": [
    "from datetime import datetime\n",
    "\n",
    "time = datetime.now()"
   ]
  },
  {
   "cell_type": "code",
   "execution_count": 29,
   "metadata": {},
   "outputs": [
    {
     "data": {
      "text/plain": [
       "'25/11/2022 20:37:45'"
      ]
     },
     "execution_count": 29,
     "metadata": {},
     "output_type": "execute_result"
    }
   ],
   "source": [
    "time.strftime(\"%d/%m/%Y %H:%M:%S\")"
   ]
  },
  {
   "cell_type": "code",
   "execution_count": 4,
   "metadata": {},
   "outputs": [],
   "source": [
    "config = FedConfig()"
   ]
  },
  {
   "cell_type": "code",
   "execution_count": 5,
   "metadata": {},
   "outputs": [],
   "source": [
    "model_config = MFRecommenderConfig()"
   ]
  },
  {
   "cell_type": "code",
   "execution_count": 6,
   "metadata": {},
   "outputs": [],
   "source": [
    "model = MFRecommender(model_config, config)"
   ]
  },
  {
   "cell_type": "code",
   "execution_count": 7,
   "metadata": {},
   "outputs": [],
   "source": [
    "score_meter = ScoreMeterRec(10)"
   ]
  },
  {
   "cell_type": "code",
   "execution_count": 8,
   "metadata": {},
   "outputs": [],
   "source": [
    "ldp_lap = [LaplaceLDP(eps = 1000000)]\n",
    "ldp_har = [HarmonyLDP(eps = 4, k = 100)]"
   ]
  },
  {
   "cell_type": "code",
   "execution_count": 9,
   "metadata": {},
   "outputs": [],
   "source": [
    "fed = Federation(config, model, ldp_lap, criterion = None, metrics = score_meter)"
   ]
  },
  {
   "cell_type": "code",
   "execution_count": 10,
   "metadata": {},
   "outputs": [],
   "source": [
    "path = \"./dataset/MovieLens/data/MovieLensSmall.csv\"\n",
    "params = {\"sparse\": True,\n",
    "          \"rating\": False,\n",
    "          \"alpha\": 1}\n",
    "data = MovieLensDatasetLOO(path, **params)\n",
    "cui, pu, test_ind = data.get_item()\n",
    "train_params = {\"Cui\":cui, \"Pu\":pu, \"test_indexes\":test_ind}"
   ]
  },
  {
   "cell_type": "code",
   "execution_count": 11,
   "metadata": {},
   "outputs": [
    {
     "name": "stderr",
     "output_type": "stream",
     "text": [
      "Epoch:   0%|          | 0/2 [00:00<?, ?it/s]\n",
      "Local update user id:   0%|          | 0/1128 [00:00<?, ?it/s]\u001b[A\n",
      "Local update user id:  29%|██▉       | 327/1128 [00:00<00:00, 3268.69it/s]\u001b[A\n",
      "Local update user id:  58%|█████▊    | 654/1128 [00:00<00:00, 2850.87it/s]\u001b[A\n",
      "Local update user id: 100%|██████████| 1128/1128 [00:00<00:00, 2973.47it/s][A\n",
      "\n",
      "Train User Id:   0%|          | 0/1128 [00:00<?, ?it/s]\u001b[A\n",
      "Train User Id:   3%|▎         | 38/1128 [00:00<00:02, 374.15it/s]\u001b[A\n",
      "Train User Id:   7%|▋         | 76/1128 [00:00<00:03, 302.15it/s]\u001b[A\n",
      "Train User Id:  10%|▉         | 108/1128 [00:00<00:03, 296.96it/s]\u001b[A\n",
      "Train User Id:  12%|█▏        | 139/1128 [00:00<00:03, 294.91it/s]\u001b[A\n",
      "Train User Id:  15%|█▌        | 172/1128 [00:00<00:03, 305.36it/s]\u001b[A\n",
      "Train User Id:  18%|█▊        | 207/1128 [00:00<00:02, 319.42it/s]\u001b[A\n",
      "Train User Id:  22%|██▏       | 247/1128 [00:00<00:02, 342.74it/s]\u001b[A\n",
      "Train User Id:  25%|██▌       | 285/1128 [00:00<00:02, 353.29it/s]\u001b[A\n",
      "Train User Id:  29%|██▊       | 324/1128 [00:00<00:02, 363.55it/s]\u001b[A\n",
      "Train User Id:  32%|███▏      | 361/1128 [00:01<00:02, 333.45it/s]\u001b[A\n",
      "Train User Id:  35%|███▌      | 395/1128 [00:01<00:02, 323.40it/s]\u001b[A\n",
      "Train User Id:  38%|███▊      | 428/1128 [00:01<00:02, 317.20it/s]\u001b[A\n",
      "Train User Id:  41%|████      | 460/1128 [00:01<00:02, 312.00it/s]\u001b[A\n",
      "Train User Id:  44%|████▎     | 492/1128 [00:01<00:02, 307.38it/s]\u001b[A\n",
      "Train User Id:  46%|████▋     | 524/1128 [00:01<00:01, 310.67it/s]\u001b[A\n",
      "Train User Id:  50%|████▉     | 563/1128 [00:01<00:01, 331.88it/s]\u001b[A\n",
      "Train User Id:  54%|█████▎    | 604/1128 [00:01<00:01, 353.05it/s]\u001b[A\n",
      "Train User Id:  57%|█████▋    | 645/1128 [00:01<00:01, 368.69it/s]\u001b[A\n",
      "Train User Id:  61%|██████    | 684/1128 [00:02<00:01, 374.49it/s]\u001b[A\n",
      "Train User Id:  64%|██████▍   | 722/1128 [00:02<00:01, 374.73it/s]\u001b[A\n",
      "Train User Id:  67%|██████▋   | 760/1128 [00:02<00:00, 371.98it/s]\u001b[A\n",
      "Train User Id:  71%|███████   | 798/1128 [00:02<00:00, 365.78it/s]\u001b[A\n",
      "Train User Id:  74%|███████▍  | 835/1128 [00:02<00:00, 347.33it/s]\u001b[A\n",
      "Train User Id:  77%|███████▋  | 870/1128 [00:02<00:00, 340.32it/s]\u001b[A\n",
      "Train User Id:  80%|████████  | 905/1128 [00:02<00:00, 329.91it/s]\u001b[A\n",
      "Train User Id:  84%|████████▎ | 944/1128 [00:02<00:00, 344.54it/s]\u001b[A\n",
      "Train User Id:  87%|████████▋ | 983/1128 [00:02<00:00, 357.16it/s]\u001b[A\n",
      "Train User Id:  91%|█████████ | 1022/1128 [00:02<00:00, 366.50it/s]\u001b[A\n",
      "Train User Id:  94%|█████████▍| 1061/1128 [00:03<00:00, 372.97it/s]\u001b[A\n",
      "Train User Id: 100%|██████████| 1128/1128 [00:03<00:00, 340.31it/s]\u001b[A\n",
      "\n",
      "Train User Id:   0%|          | 0/1128 [00:00<?, ?it/s]\u001b[A\n",
      "Train User Id:   3%|▎         | 32/1128 [00:00<00:03, 319.70it/s]\u001b[A\n",
      "Train User Id:   6%|▌         | 69/1128 [00:00<00:03, 345.95it/s]\u001b[A\n",
      "Train User Id:   9%|▉         | 104/1128 [00:00<00:02, 346.77it/s]\u001b[A\n",
      "Train User Id:  12%|█▏        | 140/1128 [00:00<00:02, 351.81it/s]\u001b[A\n",
      "Train User Id:  16%|█▌        | 176/1128 [00:00<00:02, 334.53it/s]\u001b[A\n",
      "Train User Id:  19%|█▊        | 210/1128 [00:00<00:02, 320.75it/s]\u001b[A\n",
      "Train User Id:  22%|██▏       | 243/1128 [00:00<00:02, 318.69it/s]\u001b[A\n",
      "Train User Id:  25%|██▍       | 277/1128 [00:00<00:02, 321.74it/s]\u001b[A\n",
      "Train User Id:  27%|██▋       | 310/1128 [00:00<00:02, 319.69it/s]\u001b[A\n",
      "Train User Id:  31%|███       | 350/1128 [00:01<00:02, 343.43it/s]\u001b[A\n",
      "Train User Id:  35%|███▍      | 390/1128 [00:01<00:02, 359.53it/s]\u001b[A\n",
      "Train User Id:  38%|███▊      | 427/1128 [00:01<00:02, 342.60it/s]\u001b[A\n",
      "Train User Id:  41%|████▏     | 466/1128 [00:01<00:01, 356.16it/s]\u001b[A\n",
      "Train User Id:  45%|████▌     | 508/1128 [00:01<00:01, 372.98it/s]\u001b[A\n",
      "Train User Id:  48%|████▊     | 546/1128 [00:01<00:01, 347.31it/s]\u001b[A\n",
      "Train User Id:  52%|█████▏    | 582/1128 [00:01<00:01, 337.76it/s]\u001b[A\n",
      "Train User Id:  55%|█████▍    | 617/1128 [00:01<00:01, 335.25it/s]\u001b[A\n",
      "Train User Id:  58%|█████▊    | 651/1128 [00:01<00:01, 335.03it/s]\u001b[A\n",
      "Train User Id:  61%|██████    | 685/1128 [00:02<00:01, 332.06it/s]\u001b[A\n",
      "Train User Id:  64%|██████▍   | 727/1128 [00:02<00:01, 356.07it/s]\u001b[A\n",
      "Train User Id:  68%|██████▊   | 763/1128 [00:02<00:01, 337.62it/s]\u001b[A\n",
      "Train User Id:  71%|███████   | 798/1128 [00:02<00:01, 329.14it/s]\u001b[A\n",
      "Train User Id:  74%|███████▍  | 832/1128 [00:02<00:00, 328.60it/s]\u001b[A\n",
      "Train User Id:  77%|███████▋  | 866/1128 [00:02<00:00, 330.40it/s]\u001b[A\n",
      "Train User Id:  80%|███████▉  | 902/1128 [00:02<00:00, 337.60it/s]\u001b[A\n",
      "Train User Id:  83%|████████▎ | 936/1128 [00:02<00:00, 334.04it/s]\u001b[A\n",
      "Train User Id:  86%|████████▌ | 970/1128 [00:02<00:00, 332.60it/s]\u001b[A\n",
      "Train User Id:  89%|████████▉ | 1004/1128 [00:02<00:00, 333.01it/s]\u001b[A\n",
      "Train User Id:  92%|█████████▏| 1038/1128 [00:03<00:00, 331.98it/s]\u001b[A\n",
      "Train User Id:  95%|█████████▌| 1072/1128 [00:03<00:00, 318.03it/s]\u001b[A\n",
      "Train User Id: 100%|██████████| 1128/1128 [00:03<00:00, 334.27it/s]\u001b[A\n",
      "\n",
      "Val User Id:   0%|          | 0/1128 [00:00<?, ?it/s]\u001b[A\n",
      "Val User Id:  22%|██▏       | 251/1128 [00:00<00:00, 2504.87it/s]\u001b[A\n",
      "Val User Id:  45%|████▍     | 507/1128 [00:00<00:00, 2534.23it/s]\u001b[A\n",
      "Val User Id: 100%|██████████| 1128/1128 [00:00<00:00, 2841.52it/s][A\n",
      "Epoch:  50%|█████     | 1/2 [00:07<00:07,  7.50s/it]\n",
      "Local update user id:   0%|          | 0/1128 [00:00<?, ?it/s]\u001b[A\n",
      "Local update user id:  26%|██▋       | 297/1128 [00:00<00:00, 2969.23it/s]\u001b[A"
     ]
    },
    {
     "name": "stdout",
     "output_type": "stream",
     "text": [
      "{'HR@1': 0.004432624113475178, 'HR@2': 0.007978723404255319, 'HR@3': 0.013297872340425532, 'HR@4': 0.020390070921985817, 'HR@5': 0.02304964539007092, 'HR@6': 0.024822695035460994, 'HR@7': 0.03102836879432624, 'HR@8': 0.03280141843971631, 'HR@9': 0.03723404255319149, 'HR@10': 0.041666666666666664}\n"
     ]
    },
    {
     "name": "stderr",
     "output_type": "stream",
     "text": [
      "\n",
      "Local update user id:  53%|█████▎    | 594/1128 [00:00<00:00, 2881.22it/s]\u001b[A\n",
      "Local update user id: 100%|██████████| 1128/1128 [00:00<00:00, 3024.21it/s][A\n",
      "\n",
      "Train User Id:   0%|          | 0/1128 [00:00<?, ?it/s]\u001b[A\n",
      "Train User Id:   3%|▎         | 39/1128 [00:00<00:02, 384.67it/s]\u001b[A\n",
      "Train User Id:   7%|▋         | 79/1128 [00:00<00:02, 393.22it/s]\u001b[A\n",
      "Train User Id:  11%|█         | 121/1128 [00:00<00:02, 402.75it/s]\u001b[A\n",
      "Train User Id:  14%|█▍        | 162/1128 [00:00<00:02, 378.99it/s]\u001b[A\n",
      "Train User Id:  18%|█▊        | 201/1128 [00:00<00:02, 349.97it/s]\u001b[A\n",
      "Train User Id:  21%|██        | 237/1128 [00:00<00:02, 338.09it/s]\u001b[A\n",
      "Train User Id:  24%|██▍       | 274/1128 [00:00<00:02, 345.65it/s]\u001b[A\n",
      "Train User Id:  28%|██▊       | 314/1128 [00:00<00:02, 361.47it/s]\u001b[A\n",
      "Train User Id:  31%|███▏      | 354/1128 [00:00<00:02, 372.45it/s]\u001b[A\n",
      "Train User Id:  35%|███▍      | 392/1128 [00:01<00:02, 349.58it/s]\u001b[A\n",
      "Train User Id:  38%|███▊      | 428/1128 [00:01<00:02, 343.56it/s]\u001b[A\n",
      "Train User Id:  41%|████      | 465/1128 [00:01<00:01, 350.97it/s]\u001b[A\n",
      "Train User Id:  45%|████▍     | 507/1128 [00:01<00:01, 369.33it/s]\u001b[A\n",
      "Train User Id:  48%|████▊     | 545/1128 [00:01<00:01, 370.51it/s]\u001b[A\n",
      "Train User Id:  52%|█████▏    | 583/1128 [00:01<00:01, 348.12it/s]\u001b[A\n",
      "Train User Id:  55%|█████▍    | 619/1128 [00:01<00:01, 333.63it/s]\u001b[A\n",
      "Train User Id:  58%|█████▊    | 656/1128 [00:01<00:01, 342.60it/s]\u001b[A\n",
      "Train User Id:  62%|██████▏   | 697/1128 [00:01<00:01, 359.65it/s]\u001b[A\n",
      "Train User Id:  65%|██████▌   | 736/1128 [00:02<00:01, 367.52it/s]\u001b[A\n",
      "Train User Id:  69%|██████▉   | 777/1128 [00:02<00:00, 379.23it/s]\u001b[A\n",
      "Train User Id:  73%|███████▎  | 819/1128 [00:02<00:00, 388.78it/s]\u001b[A\n",
      "Train User Id:  76%|███████▋  | 862/1128 [00:02<00:00, 398.51it/s]\u001b[A\n",
      "Train User Id:  80%|████████  | 903/1128 [00:02<00:00, 399.36it/s]\u001b[A\n",
      "Train User Id:  84%|████████▎ | 944/1128 [00:02<00:00, 373.65it/s]\u001b[A\n",
      "Train User Id:  87%|████████▋ | 982/1128 [00:02<00:00, 358.67it/s]\u001b[A\n",
      "Train User Id:  90%|█████████ | 1019/1128 [00:02<00:00, 350.16it/s]\u001b[A\n",
      "Train User Id:  94%|█████████▎| 1057/1128 [00:02<00:00, 357.84it/s]\u001b[A\n",
      "Train User Id: 100%|██████████| 1128/1128 [00:03<00:00, 364.92it/s]\u001b[A\n",
      "\n",
      "Train User Id:   0%|          | 0/1128 [00:00<?, ?it/s]\u001b[A\n",
      "Train User Id:   3%|▎         | 39/1128 [00:00<00:02, 385.21it/s]\u001b[A\n",
      "Train User Id:   7%|▋         | 80/1128 [00:00<00:02, 396.33it/s]\u001b[A\n",
      "Train User Id:  11%|█         | 120/1128 [00:00<00:02, 382.07it/s]\u001b[A\n",
      "Train User Id:  14%|█▍        | 159/1128 [00:00<00:02, 336.16it/s]\u001b[A\n",
      "Train User Id:  17%|█▋        | 194/1128 [00:00<00:02, 328.29it/s]\u001b[A\n",
      "Train User Id:  20%|██        | 228/1128 [00:00<00:02, 330.62it/s]\u001b[A\n",
      "Train User Id:  24%|██▍       | 270/1128 [00:00<00:02, 356.68it/s]\u001b[A\n",
      "Train User Id:  28%|██▊       | 312/1128 [00:00<00:02, 374.14it/s]\u001b[A\n",
      "Train User Id:  31%|███▏      | 353/1128 [00:00<00:02, 383.46it/s]\u001b[A\n",
      "Train User Id:  35%|███▍      | 392/1128 [00:01<00:01, 382.36it/s]\u001b[A\n",
      "Train User Id:  38%|███▊      | 431/1128 [00:01<00:01, 375.24it/s]\u001b[A\n",
      "Train User Id:  42%|████▏     | 469/1128 [00:01<00:01, 373.64it/s]\u001b[A\n",
      "Train User Id:  45%|████▍     | 507/1128 [00:01<00:01, 350.89it/s]\u001b[A\n",
      "Train User Id:  48%|████▊     | 543/1128 [00:01<00:01, 347.60it/s]\u001b[A\n",
      "Train User Id:  51%|█████     | 578/1128 [00:01<00:01, 344.17it/s]\u001b[A\n",
      "Train User Id:  55%|█████▍    | 618/1128 [00:01<00:01, 360.01it/s]\u001b[A\n",
      "Train User Id:  58%|█████▊    | 655/1128 [00:01<00:01, 350.54it/s]\u001b[A\n",
      "Train User Id:  61%|██████▏   | 691/1128 [00:01<00:01, 346.25it/s]\u001b[A\n",
      "Train User Id:  64%|██████▍   | 727/1128 [00:02<00:01, 348.21it/s]\u001b[A\n",
      "Train User Id:  68%|██████▊   | 769/1128 [00:02<00:00, 366.63it/s]\u001b[A\n",
      "Train User Id:  71%|███████▏  | 806/1128 [00:02<00:00, 354.62it/s]\u001b[A\n",
      "Train User Id:  75%|███████▍  | 842/1128 [00:02<00:00, 347.63it/s]\u001b[A\n",
      "Train User Id:  78%|███████▊  | 878/1128 [00:02<00:00, 350.73it/s]\u001b[A\n",
      "Train User Id:  82%|████████▏ | 920/1128 [00:02<00:00, 369.04it/s]\u001b[A\n",
      "Train User Id:  85%|████████▍ | 958/1128 [00:02<00:00, 357.64it/s]\u001b[A\n",
      "Train User Id:  88%|████████▊ | 994/1128 [00:02<00:00, 351.26it/s]\u001b[A\n",
      "Train User Id:  91%|█████████▏| 1030/1128 [00:02<00:00, 353.41it/s]\u001b[A\n",
      "Train User Id:  95%|█████████▍| 1071/1128 [00:02<00:00, 368.51it/s]\u001b[A\n",
      "Train User Id: 100%|██████████| 1128/1128 [00:03<00:00, 360.20it/s]\u001b[A\n",
      "\n",
      "Val User Id:   0%|          | 0/1128 [00:00<?, ?it/s]\u001b[A\n",
      "Val User Id:  29%|██▊       | 323/1128 [00:00<00:00, 3223.46it/s]\u001b[A\n",
      "Val User Id:  57%|█████▋    | 646/1128 [00:00<00:00, 2873.65it/s]\u001b[A\n",
      "Val User Id: 100%|██████████| 1128/1128 [00:00<00:00, 2867.13it/s][A\n",
      "Epoch: 100%|██████████| 2/2 [00:14<00:00,  7.26s/it]"
     ]
    },
    {
     "name": "stdout",
     "output_type": "stream",
     "text": [
      "{'HR@1': 0.16400709219858156, 'HR@2': 0.2526595744680851, 'HR@3': 0.3120567375886525, 'HR@4': 0.3625886524822695, 'HR@5': 0.4024822695035461, 'HR@6': 0.43439716312056736, 'HR@7': 0.4645390070921986, 'HR@8': 0.50177304964539, 'HR@9': 0.5230496453900709, 'HR@10': 0.5452127659574468}\n",
      "{'HR@1': 0.004432624113475178, 'HR@2': 0.007978723404255319, 'HR@3': 0.013297872340425532, 'HR@4': 0.020390070921985817, 'HR@5': 0.02304964539007092, 'HR@6': 0.024822695035460994, 'HR@7': 0.03102836879432624, 'HR@8': 0.03280141843971631, 'HR@9': 0.03723404255319149, 'HR@10': 0.041666666666666664}\n",
      "{'HR@1': 0.16400709219858156, 'HR@2': 0.2526595744680851, 'HR@3': 0.3120567375886525, 'HR@4': 0.3625886524822695, 'HR@5': 0.4024822695035461, 'HR@6': 0.43439716312056736, 'HR@7': 0.4645390070921986, 'HR@8': 0.50177304964539, 'HR@9': 0.5230496453900709, 'HR@10': 0.5452127659574468}\n"
     ]
    },
    {
     "name": "stderr",
     "output_type": "stream",
     "text": [
      "\n"
     ]
    }
   ],
   "source": [
    "fed.train(**train_params)"
   ]
  },
  {
   "cell_type": "code",
   "execution_count": 2,
   "metadata": {},
   "outputs": [],
   "source": [
    "import os\n"
   ]
  },
  {
   "cell_type": "code",
   "execution_count": 25,
   "metadata": {},
   "outputs": [],
   "source": [
    "with open(\"input.txt\", \"w\") as f:\n",
    "    f.write(\"2\\n\")\n",
    "    f.write(\"1\\n\")\n",
    "    f.write(\"0\")\n"
   ]
  },
  {
   "cell_type": "code",
   "execution_count": 26,
   "metadata": {},
   "outputs": [
    {
     "name": "stdout",
     "output_type": "stream",
     "text": [
      "2\n",
      "1\n",
      "\n",
      "0\n"
     ]
    },
    {
     "data": {
      "text/plain": [
       "'2'"
      ]
     },
     "execution_count": 26,
     "metadata": {},
     "output_type": "execute_result"
    }
   ],
   "source": [
    "with open(\"input.txt\", \"r\") as f:\n",
    "    J = f.readline()[:-1]\n",
    "    S = f.readline()\n",
    "print(J)\n",
    "print(S)\n",
    "def S_in_J(S,J):\n",
    "    counter = 0\n",
    "    J_set = set(J)\n",
    "    for s in S:\n",
    "        if s in J_set:\n",
    "            counter+=1\n",
    "    return counter \n",
    "\n",
    "print(S_in_J(S,J))\n",
    "J"
   ]
  },
  {
   "cell_type": "code",
   "execution_count": 27,
   "metadata": {},
   "outputs": [
    {
     "name": "stdout",
     "output_type": "stream",
     "text": [
      "1\n",
      "0\n",
      "1\n"
     ]
    }
   ],
   "source": [
    "counter = 0\n",
    "unique = 0\n",
    "\n",
    "with open(\"input.txt\", \"r\") as f:\n",
    "    n = f.readline().rstrip('\\n')\n",
    "    for i in range(int(n)):\n",
    "        sym = f.readline().rstrip('\\n')\n",
    "        if sym == '1':\n",
    "            counter += 1\n",
    "            max_counter = max(max_counter, counter)\n",
    "        else:\n",
    "            counter = 0\n",
    "\n",
    "print(max_counter)"
   ]
  },
  {
   "cell_type": "code",
   "execution_count": 39,
   "metadata": {},
   "outputs": [],
   "source": [
    "def generate(n, n_left, n_right, arr):\n",
    "    if n_left + n_right == 2*n:\n",
    "        print(arr)\n",
    "        return arr\n",
    "    if n_left < n:\n",
    "        generate(n, n_left + 1, n_right, arr + '(')\n",
    "    if n_right < n_left:\n",
    "        generate(n, n_left, n_right + 1, arr + ')')\n",
    "    return arr"
   ]
  },
  {
   "cell_type": "code",
   "execution_count": 104,
   "metadata": {},
   "outputs": [],
   "source": [
    "\n",
    "str1 = 'fddadaaaa'\n",
    "str2 = 'adddasaaaf'\n",
    "\n"
   ]
  },
  {
   "cell_type": "code",
   "execution_count": 105,
   "metadata": {},
   "outputs": [],
   "source": [
    "\n",
    "def count_d(str_t):\n",
    "\tcounts = dict()\n",
    "\tfor s in str_t:\n",
    "\t\tcounts[s] = counts.get(s, 0) + 1\n",
    "\treturn counts\n",
    "\n",
    "def annn(str1, str2):\n",
    "\tcounts_1 = count_d(str1)\n",
    "\tcounts_2 = count_d(str2)\n",
    "\tprint(counts_1)\n",
    "\tprint(counts_2)\n",
    "\n",
    "\tfor key in counts_1.keys():\n",
    "\t\tif counts_1[key] != counts_2.get(key, -1):\n",
    "\t\t\treturn 0\n",
    "\n",
    "\tfor key in counts_2.keys():\n",
    "\t\tif counts_2[key] != counts_1.get(key, -1):\n",
    "\t\t\treturn 0\n",
    "        \n",
    "\treturn 1"
   ]
  },
  {
   "cell_type": "code",
   "execution_count": 106,
   "metadata": {},
   "outputs": [
    {
     "name": "stdout",
     "output_type": "stream",
     "text": [
      "{'f': 1, 'd': 3, 'a': 5}\n",
      "{'a': 5, 'd': 3, 's': 1, 'f': 1}\n"
     ]
    },
    {
     "data": {
      "text/plain": [
       "0"
      ]
     },
     "execution_count": 106,
     "metadata": {},
     "output_type": "execute_result"
    }
   ],
   "source": [
    "annn(str1,str2)"
   ]
  },
  {
   "cell_type": "code",
   "execution_count": 118,
   "metadata": {},
   "outputs": [],
   "source": [
    "a = set([323,343,12,123])"
   ]
  },
  {
   "cell_type": "code",
   "execution_count": null,
   "metadata": {},
   "outputs": [],
   "source": []
  },
  {
   "cell_type": "code",
   "execution_count": 124,
   "metadata": {},
   "outputs": [],
   "source": [
    "4\n",
    "0 0\n",
    "1 0\n",
    "0 1\n",
    "1 1\n",
    "2\n",
    "1 4"
   ]
  },
  {
   "cell_type": "code",
   "execution_count": 318,
   "metadata": {},
   "outputs": [],
   "source": [
    "sym_t = -1\n",
    "with open(\"input.txt\", \"w\") as f:\n",
    "    f.write(\"5\\n\")\n",
    "    f.write(\"1 0\\n\")\n",
    "    f.write(\"1 0\\n\")\n",
    "    f.write(\"1 1\\n\")\n",
    "    f.write(\"1 2\\n\")\n",
    "    f.write(\"2 2\\n\")\n",
    "    f.write(\"1\\n\")\n",
    "    f.write(\"1 5\")\n",
    "points = []\n",
    "with open(\"input.txt\", \"r\") as f:\n",
    "\tn = int(f.readline().rstrip('\\n'))\n",
    "\tfor i in range(n):\n",
    "\t\tx, y = f.readline().rstrip('\\n').split(' ')\n",
    "\t\tpoints.append([int(x), int(y)])\n",
    "\tmax_p = int(f.readline().rstrip('\\n'))\n",
    "\tstart,end = f.readline().rstrip('\\n').split(' ')\n",
    "\tstart = int(start)\n",
    "\tend = int(end)\n",
    "\n",
    "def dists(p_i, p_j):\n",
    "\tdist = abs(p_i[0] - p_j[0]) + abs(p_i[1] - p_j[1])  \n",
    "\treturn dist\n",
    "# with open(\"input.txt\", \"r\") as f:\n",
    "#     x,y = int(f.readline().rstrip('\\n').split(' '))\n",
    "    "
   ]
  },
  {
   "cell_type": "code",
   "execution_count": 330,
   "metadata": {},
   "outputs": [
    {
     "name": "stdout",
     "output_type": "stream",
     "text": [
      "[0]\n",
      "[0, 1]\n",
      "[0, 2]\n",
      "[0, 2, 3]\n",
      "[0, 2, 3, 4]\n",
      "3\n"
     ]
    }
   ],
   "source": [
    "points = []\n",
    "with open(\"input.txt\", \"r\") as f:\n",
    "\tn = int(f.readline().rstrip('\\n'))\n",
    "\tfor i in range(n):\n",
    "\t\tx, y = f.readline().rstrip('\\n').split(' ')\n",
    "\t\tpoints.append([int(x), int(y)])\n",
    "\tmax_p = int(f.readline().rstrip('\\n'))\n",
    "\tstart,end = f.readline().rstrip('\\n').split(' ')\n",
    "\tstart = int(start)\n",
    "\tend = int(end)\n",
    "\n",
    "def dists(p_i, p_j):\n",
    "\tdist = abs(p_i[0] - p_j[0]) + abs(p_i[1] - p_j[1])  \n",
    "\treturn dist\n",
    "\n",
    "\n",
    "\n",
    "\n",
    "\n",
    "\n",
    "def find_path(points, end, n, cur_path, max_path, tested):\n",
    "\tmin_len = len(cur_path) + n + 1\n",
    "\tps = points[cur_path[-1]]\n",
    "\tpe = points[end]\n",
    "\tt_tested = []\n",
    "\tprint(cur_path)\n",
    "\tif dists(ps, pe) <= max_path:\n",
    "\t\tcur_path.append(end)\n",
    "\t\treturn cur_path\n",
    "\tfor i in range(n):\n",
    "\t\tif i not in tested:\n",
    "\t\t\tpe = points[i]\n",
    "\t\t\tif dists(ps, pe) <= max_path:\n",
    "\t\t\t\tt_tested.append(i)\n",
    "# \ttested.extend(t_tested)\n",
    "\tfor i in t_tested:\n",
    "\t\tcur_path_t = find_path(points, end, \n",
    "                               n, \n",
    "                               cur_path + [i], \n",
    "                               max_path, tested + t_tested)\n",
    "        \n",
    "\t\tif len(cur_path_t) < min_len and len(cur_path_t) != 0:\n",
    "\t\t\tmin_len  = len(cur_path_t)\n",
    "\t\t\tf_path = cur_path_t\n",
    "\tif min_len == len(cur_path) + n + 1:\n",
    "\t\treturn []\n",
    "\telse:\n",
    "\t\treturn f_path \n",
    "\n",
    "\n",
    "\n",
    "\n",
    "cur_path = find_path(points, end - 1, n, [start - 1], max_p, [start - 1, end - 1])\n",
    "print(cur_path)\n",
    "if len(cur_path) > 1:\n",
    "\tprint(len(cur_path) - 1)\n",
    "else:\n",
    "\tprint(-1) \n",
    "\n"
   ]
  },
  {
   "cell_type": "code",
   "execution_count": 468,
   "metadata": {},
   "outputs": [],
   "source": [
    "sym_t = -1\n",
    "\n",
    "\n",
    "def dists(p_i, p_j):\n",
    "\tdist = abs(p_i[0] - p_j[0]) + abs(p_i[1] - p_j[1])  \n",
    "\treturn dist"
   ]
  },
  {
   "cell_type": "code",
   "execution_count": 469,
   "metadata": {},
   "outputs": [],
   "source": [
    "\n",
    "\n",
    "def find_min(paths, index):\n",
    "\tmin_v = len(paths) * 2\n",
    "\tmin_ind = -1\n",
    "\tfor i in index:\n",
    "\t\tif min_v > paths[i]:\n",
    "\t\t\tmin_v = paths[i]\n",
    "\t\t\tmin_ind = i\n",
    "\treturn min_ind\n",
    "\n",
    "def find_path(E, start, end, n):\n",
    "\tpaths = [n*2 for i in range(n)]\n",
    "\tnot_finished = [i for i in range(n)]\n",
    "\tif len(E[start]) == 0:\n",
    "\t\treturn -1\n",
    "\tcur_node = start\n",
    "\tpath_finished = [n*2 for i in range(n)]\n",
    "\tpaths[start] = 0\n",
    "\twhile len(not_finished)!=0:\n",
    "\t\tfor nei in E[cur_node]:\n",
    "\t\t\tpaths[nei] = min(paths[nei], paths[cur_node] + 1)\n",
    "\t\tpath_finished[cur_node] = paths[cur_node]\n",
    "\t\tnot_finished.remove(cur_node)\n",
    "\t\tcur_node = find_min(paths, not_finished)\n",
    "\treturn paths\n"
   ]
  },
  {
   "cell_type": "code",
   "execution_count": null,
   "metadata": {},
   "outputs": [],
   "source": []
  },
  {
   "cell_type": "code",
   "execution_count": 48,
   "metadata": {},
   "outputs": [
    {
     "name": "stdout",
     "output_type": "stream",
     "text": [
      "-1\n"
     ]
    }
   ],
   "source": [
    "points = []\n",
    "with open(\"input.txt\", \"r\") as f:\n",
    "\tn = int(f.readline().rstrip('\\n'))\n",
    "\tfor i in range(n):\n",
    "\t\tx, y = f.readline().rstrip('\\n').split(' ')\n",
    "\t\tpoints.append([int(x), int(y)])\n",
    "\tmax_p = int(f.readline().rstrip('\\n'))\n",
    "\tstart,end = f.readline().rstrip('\\n').split(' ')\n",
    "\tstart = int(start)\n",
    "\tend = int(end)\n",
    "\n",
    "def dists(p_i, p_j):\n",
    "\tdist = abs(p_i[0] - p_j[0]) + abs(p_i[1] - p_j[1])  \n",
    "\treturn dist\n",
    "\n",
    "def find_nei(points, n, max_p):\n",
    "\tnei = []\n",
    "\tfor i in range(n):\n",
    "\t\tnei_t = []\n",
    "\t\tfor j in range(n):\n",
    "\t\t\tdist = dists(points[i], points[j]) \n",
    "\t\t\tif dist<= max_p and j!=i:\n",
    "\t\t\t\tnei_t.append(j)\n",
    "\t\tnei.append(nei_t)\n",
    "\treturn nei\n",
    "\n",
    "def find_min(paths, index):\n",
    "\tmin_v = len(paths) * 2 + 1\n",
    "\tmin_ind = -1\n",
    "\tfor i in index:\n",
    "\t\tif min_v > paths[i]:\n",
    "\t\t\tmin_v = paths[i]\n",
    "\t\t\tmin_ind = i\n",
    "\treturn min_ind\n",
    "\n",
    "def find_path(E, start, end, n):\n",
    "\tpaths = [n*2 for i in range(n)]\n",
    "\tnot_finished = [i for i in range(n)]\n",
    "\tif len(E[start]) == 0:\n",
    "\t\treturn n*2\n",
    "\tcur_node = start\n",
    "\tpaths[start] = 0\n",
    "\twhile len(not_finished)!=0:\n",
    "\t\tif len(E[cur_node]) >= 0:\n",
    "\t\t\tfor nei in E[cur_node]:\n",
    "\t\t\t\tpaths[nei] = min(paths[nei], paths[cur_node] + 1)\n",
    "\n",
    "\t\t\tnot_finished.remove(cur_node)\n",
    "\t\t\tcur_node = find_min(paths, not_finished)\n",
    "\treturn paths[end]\n",
    "\n",
    "E = find_nei(points, n, max_p)\n",
    "path = find_path(E, start-1, end-1, n)\n",
    "if path < 2*n :\n",
    "\tprint(path)\n",
    "else:\n",
    "\tprint(-1)\n",
    "        \n",
    "        \n",
    "    "
   ]
  },
  {
   "cell_type": "code",
   "execution_count": 70,
   "metadata": {},
   "outputs": [],
   "source": [
    "with open(\"input.txt\", \"w\") as f:\n",
    "    f.write(\"5\\n\")\n",
    "    f.write(\"1 0\\n\")\n",
    "    f.write(\"1 0\\n\")\n",
    "    f.write(\"1 1\\n\")\n",
    "    f.write(\"1 2\\n\")\n",
    "    f.write(\"2 3\\n\")\n",
    "    f.write(\"1\\n\")\n",
    "    f.write(\"1 5\")\n",
    "points = []\n",
    "with open(\"input.txt\", \"r\") as f:\n",
    "\tn = int(f.readline().rstrip('\\n'))\n",
    "\tfor i in range(n):\n",
    "\t\tx, y = f.readline().rstrip('\\n').split(' ')\n",
    "\t\tpoints.append([int(x), int(y)])\n",
    "\tmax_p = int(f.readline().rstrip('\\n'))\n",
    "\tstart,end = f.readline().rstrip('\\n').split(' ')\n",
    "\tstart = int(start)\n",
    "\tend = int(end)"
   ]
  },
  {
   "cell_type": "code",
   "execution_count": 71,
   "metadata": {},
   "outputs": [],
   "source": [
    "\n",
    "with open(\"input.txt\", \"r\") as f:\n",
    "\tn = int(f.readline().rstrip('\\n'))\n",
    "\tfor i in range(n):\n",
    "\t\tx, y = f.readline().rstrip('\\n').split(' ')\n",
    "\t\tpoints.append([int(x), int(y)])\n",
    "\tmax_p = int(f.readline().rstrip('\\n'))\n",
    "\tstart,end = f.readline().rstrip('\\n').split(' ')\n",
    "\tstart = int(start)\n",
    "\tend = int(end)\n",
    "\n",
    "def dists(p_i, p_j):\n",
    "\tdist = abs(p_i[0] - p_j[0]) + abs(p_i[1] - p_j[1])  \n",
    "\treturn dist\n",
    "\n",
    "def find_nei(points, cur_node, n, max_p, not_finished):\n",
    "\tnei = []\n",
    "\tfor i in not_finished:\n",
    "\t\tdist = dists(points[cur_node],points[i])        \n",
    "\t\tif dist<= max_p and cur_node!=i:\n",
    "\t\t\tnei.append(i)\n",
    "\treturn nei\n",
    "\n",
    "def find_min(paths, index):\n",
    "\tmin_v = len(paths) * 2 + 1\n",
    "\tmin_ind = -1\n",
    "\tfor i in index:\n",
    "\t\tif min_v > paths[i]:\n",
    "\t\t\tmin_v = paths[i]\n",
    "\t\t\tmin_ind = i\n",
    "\treturn min_ind\n",
    "\n",
    "def find_path(E, start, end, n):\n",
    "\tpaths = [n*2 for i in range(n)]\n",
    "\tnot_finished = [i for i in range(n)]\n",
    "\tcur_node = start\n",
    "\tpaths[start] = 0\n",
    "\twhile len(not_finished)!=0:\n",
    "\t\tprint(paths,not_finished )        \n",
    "\t\tE = find_nei(points, cur_node, n, max_p, not_finished)       \n",
    "\t\tfor nei in E:\n",
    "\t\t\tpaths[nei] = min(paths[nei], paths[cur_node] + 1)\n",
    "\t\tcur_node = find_min(paths, not_finished)\n",
    "\t\tnot_finished.remove(cur_node)\n",
    "\treturn paths[end]\n",
    "\n",
    "        \n",
    "        "
   ]
  },
  {
   "cell_type": "code",
   "execution_count": 72,
   "metadata": {},
   "outputs": [
    {
     "name": "stdout",
     "output_type": "stream",
     "text": [
      "[0, 10, 10, 10, 10] [0, 1, 2, 3, 4]\n",
      "[0, 1, 1, 10, 10] [1, 2, 3, 4]\n",
      "[0, 1, 1, 10, 10] [2, 3, 4]\n",
      "[0, 1, 1, 10, 10] [3, 4]\n",
      "[0, 1, 1, 2, 10] [4]\n",
      "-1\n"
     ]
    }
   ],
   "source": [
    "path = find_path(points, start-1, end-1, n)\n",
    "if path < 2*n :\n",
    "\tprint(path)\n",
    "else:\n",
    "\tprint(-1)"
   ]
  },
  {
   "cell_type": "code",
   "execution_count": null,
   "metadata": {},
   "outputs": [],
   "source": []
  },
  {
   "cell_type": "code",
   "execution_count": null,
   "metadata": {},
   "outputs": [],
   "source": []
  },
  {
   "cell_type": "code",
   "execution_count": null,
   "metadata": {},
   "outputs": [],
   "source": []
  }
 ],
 "metadata": {
  "kernelspec": {
   "display_name": "Python 3",
   "language": "python",
   "name": "python3"
  }
 },
 "nbformat": 4,
 "nbformat_minor": 4
}
